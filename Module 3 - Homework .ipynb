{
 "cells": [
  {
   "cell_type": "markdown",
   "metadata": {},
   "source": [
    "### Exercise 1\n",
    "Ask a user for 5 names and place each one in to a list called <i>names</i>. Then, print <i>names</i>."
   ]
  },
  {
   "cell_type": "code",
   "execution_count": 1,
   "metadata": {},
   "outputs": [
    {
     "name": "stdout",
     "output_type": "stream",
     "text": [
      "Enter a name:Alem\n",
      "Enter a name:Eric\n",
      "Enter a name:John\n",
      "Enter a name:Robert\n",
      "Enter a name:Selam\n",
      "['Alem', 'Eric', 'John', 'Robert', 'Selam']\n"
     ]
    }
   ],
   "source": [
    "names  = []\n",
    "\n",
    "names.append(input(\"Enter a name:\"))\n",
    "names.append(input(\"Enter a name:\"))\n",
    "names.append(input(\"Enter a name:\"))\n",
    "names.append(input(\"Enter a name:\"))\n",
    "names.append(input(\"Enter a name:\"))\n",
    "\n",
    "\n",
    "                    \n",
    "print(names)               "
   ]
  },
  {
   "cell_type": "markdown",
   "metadata": {},
   "source": [
    "### Exercise 2\n",
    "Print out a randomly selected name in the names list."
   ]
  },
  {
   "cell_type": "code",
   "execution_count": 2,
   "metadata": {},
   "outputs": [
    {
     "name": "stdout",
     "output_type": "stream",
     "text": [
      "['Alem', 'Eric', 'John', 'Robert', 'Selam']\n"
     ]
    }
   ],
   "source": [
    "print (names)"
   ]
  },
  {
   "cell_type": "code",
   "execution_count": 3,
   "metadata": {},
   "outputs": [
    {
     "name": "stdout",
     "output_type": "stream",
     "text": [
      "1\n",
      "Eric\n"
     ]
    }
   ],
   "source": [
    "import random as rand\n",
    "\n",
    "\n",
    "x= rand.randint(0, 4)\n",
    "\n",
    "print(x)\n",
    "print(names[x])"
   ]
  },
  {
   "cell_type": "markdown",
   "metadata": {},
   "source": [
    "### Exercise 3\n",
    "\n",
    "Ask a user for a specific color and store that value into a variable. If the answer is gray, print \"You found Victor's favorite color!\". If the answer is anything besides gray, print \"[color name] is not Victor's favorite color.\""
   ]
  },
  {
   "cell_type": "code",
   "execution_count": 5,
   "metadata": {},
   "outputs": [
    {
     "name": "stdout",
     "output_type": "stream",
     "text": [
      "Enter name of color:Gray\n",
      "Your found Victor's color!\n"
     ]
    }
   ],
   "source": [
    "color = input (\"Enter name of color:\")\n",
    "\n",
    "if color == \"Gray\":\n",
    "    print(\"Your found Victor's color!\")\n",
    "else:\n",
    "    print (\"{color} is not victor's favprote color.\")"
   ]
  },
  {
   "cell_type": "markdown",
   "metadata": {},
   "source": [
    "### Exercise 4\n",
    "Ask for an exam score and store that number. If the number is greater than 100, then print out 'You cannot have an exam score higher than 100'. If the number doesn't exceeed 100 but is greater than or equal to 75, then print out 'You did great on your exam!'. Otherwise if they scored lower than 75, then print out 'You need to study harder'."
   ]
  },
  {
   "cell_type": "code",
   "execution_count": 6,
   "metadata": {},
   "outputs": [
    {
     "name": "stdout",
     "output_type": "stream",
     "text": [
      "Please Enter score80\n",
      "You did great on the exam!\n"
     ]
    }
   ],
   "source": [
    "score = int(input(\"Please Enter score\"))\n",
    "\n",
    "if score > 100:\n",
    "    print(\"You cannot have an exam score higher than 100.\")\n",
    "    \n",
    "elif score < 100 and score >= 75:\n",
    "    \n",
    "    print(\"You did great on the exam!\")\n",
    "else: \n",
    "    print (\"You need to study harder\")"
   ]
  },
  {
   "cell_type": "markdown",
   "metadata": {},
   "source": [
    "### Exercise 5\n",
    "Write a function to convert a test score to a grade where  \n",
    " - 90 - 100: A\n",
    " - 80 - 89:  B\n",
    " - 70 - 79:  C\n",
    " - 60 - 69:  D\n",
    " - < 60   :  F\n",
    " \n",
    "If a score is not between 0 and 100 then print out an error message. In the program, ask the user for a score and then call your function. "
   ]
  },
  {
   "cell_type": "code",
   "execution_count": 8,
   "metadata": {},
   "outputs": [
    {
     "name": "stdout",
     "output_type": "stream",
     "text": [
      "Please enter a test score100\n",
      "Grade is A\n"
     ]
    }
   ],
   "source": [
    "def convert_to_grade(score):\n",
    "    if score > 100 or score < 0:\n",
    "        print(\"ERROR:score must be between 0 and 100\")\n",
    "    elif score >=90:\n",
    "        print (\"Grade is A\")\n",
    "    elif score >= 80:\n",
    "        print (\"Grade is B\")\n",
    "    elif score >= 70:\n",
    "        print (\"Grade is C\")\n",
    "    elif score >= 60:\n",
    "        print (\"Grade is D\")\n",
    "    else:\n",
    "        print(\"Grade is F\")\n",
    "    \n",
    "score = int(input(\"Please enter a test score\"))\n",
    "convert_to_grade(score)\n"
   ]
  }
 ],
 "metadata": {
  "kernelspec": {
   "display_name": "Python 3",
   "language": "python",
   "name": "python3"
  },
  "language_info": {
   "codemirror_mode": {
    "name": "ipython",
    "version": 3
   },
   "file_extension": ".py",
   "mimetype": "text/x-python",
   "name": "python",
   "nbconvert_exporter": "python",
   "pygments_lexer": "ipython3",
   "version": "3.8.8"
  }
 },
 "nbformat": 4,
 "nbformat_minor": 4
}
